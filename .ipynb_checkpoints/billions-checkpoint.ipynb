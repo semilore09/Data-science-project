{
 "cells": [
  {
   "cell_type": "code",
   "execution_count": 2,
   "id": "015115ac-c3d4-40a0-8fca-9d217123c54d",
   "metadata": {},
   "outputs": [],
   "source": [
    "import numpy as np\n",
    "import pandas as pd\n",
    "import matplotlib.pyplot as plt\n",
    "import seaborn as sns"
   ]
  },
  {
   "cell_type": "code",
   "execution_count": 4,
   "id": "fb063348-56e0-41cb-8d96-b86f74b9c1b9",
   "metadata": {},
   "outputs": [
    {
     "name": "stdout",
     "output_type": "stream",
     "text": [
      "                          Name NetWorth        Country         Source  Rank  \\\n",
      "0                   Jeff Bezos   $177 B  United States         Amazon     1   \n",
      "1                    Elon Musk   $151 B  United States  Tesla, SpaceX     2   \n",
      "2     Bernard Arnault & family   $150 B         France           LVMH     3   \n",
      "3                   Bill Gates   $124 B  United States      Microsoft     4   \n",
      "4              Mark Zuckerberg    $97 B  United States       Facebook     5   \n",
      "...                        ...      ...            ...            ...   ...   \n",
      "2750         Daniel Yong Zhang     $1 B          China     e-commerce  2674   \n",
      "2751             Zhang Yuqiang     $1 B          China     Fiberglass  2674   \n",
      "2752             Zhao Meiguang     $1 B          China    gold mining  2674   \n",
      "2753            Zhong Naixiong     $1 B          China   conglomerate  2674   \n",
      "2754           Zhou Wei family     $1 B          China       Software  2674   \n",
      "\n",
      "       Age          Industry  \n",
      "0     57.0        Technology  \n",
      "1     49.0        Automotive  \n",
      "2     72.0  Fashion & Retail  \n",
      "3     65.0        Technology  \n",
      "4     36.0        Technology  \n",
      "...    ...               ...  \n",
      "2750  49.0        Technology  \n",
      "2751  65.0     Manufacturing  \n",
      "2752  58.0   Metals & Mining  \n",
      "2753  58.0       Diversified  \n",
      "2754  54.0        Technology  \n",
      "\n",
      "[2755 rows x 7 columns]\n"
     ]
    }
   ],
   "source": [
    "bn=pd.read_csv(\"Billionaire.csv\")\n",
    "print(bn)"
   ]
  },
  {
   "cell_type": "code",
   "execution_count": null,
   "id": "eb393761-d593-4b74-abe8-6356035bc00a",
   "metadata": {},
   "outputs": [],
   "source": []
  },
  {
   "cell_type": "code",
   "execution_count": null,
   "id": "683a6293-d45b-4ec4-9c69-f3d18602e747",
   "metadata": {},
   "outputs": [],
   "source": []
  },
  {
   "cell_type": "code",
   "execution_count": null,
   "id": "e505f169-8c4c-441e-8893-dce9f1ac2508",
   "metadata": {},
   "outputs": [],
   "source": [
    "\n",
    "y = bn[\"NetWorth\"]\n",
    "x = bn[\"Name\"]\n",
    "plt.figure(figsize=(260,90))\n",
    "plt.bar(x,y)\n",
    "plt.show()"
   ]
  },
  {
   "cell_type": "code",
   "execution_count": null,
   "id": "ac85b338-c43f-4de8-ba2d-bd026a98903c",
   "metadata": {},
   "outputs": [],
   "source": []
  },
  {
   "cell_type": "code",
   "execution_count": null,
   "id": "d8b0903b-9445-496c-9f60-b8e3a3addec3",
   "metadata": {},
   "outputs": [],
   "source": []
  }
 ],
 "metadata": {
  "kernelspec": {
   "display_name": "Python 3",
   "language": "python",
   "name": "python3"
  },
  "language_info": {
   "codemirror_mode": {
    "name": "ipython",
    "version": 3
   },
   "file_extension": ".py",
   "mimetype": "text/x-python",
   "name": "python",
   "nbconvert_exporter": "python",
   "pygments_lexer": "ipython3",
   "version": "3.8.8"
  }
 },
 "nbformat": 4,
 "nbformat_minor": 5
}
