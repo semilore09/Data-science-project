{
 "cells": [
  {
   "cell_type": "code",
   "execution_count": 1,
   "id": "ba007ee7-0c32-4609-af84-c1eb8940bce3",
   "metadata": {},
   "outputs": [],
   "source": [
    "import pandas as pd"
   ]
  },
  {
   "cell_type": "code",
   "execution_count": 2,
   "id": "8d8380c6-8b89-4528-bcd4-b86b694e0c7a",
   "metadata": {},
   "outputs": [
    {
     "name": "stdout",
     "output_type": "stream",
     "text": [
      "      Name  Age     Sex\n",
      "0  Adefemi   12    male\n",
      "1     sola   17  female\n",
      "2    Wande   10  female\n"
     ]
    }
   ],
   "source": [
    "df= pd.DataFrame(\n",
    "{\n",
    "    \"Name\":[\"Adefemi\",\"sola\",\"Wande\"],\n",
    "    \"Age\":[12,17,10],\n",
    "    \"Sex\":[\"male\",\"female\",\"female\"]\n",
    "}\n",
    ")\n",
    "print(df)"
   ]
  },
  {
   "cell_type": "code",
   "execution_count": 4,
   "id": "00154b38-751f-4872-bef0-b3e43e583d4f",
   "metadata": {},
   "outputs": [
    {
     "name": "stdout",
     "output_type": "stream",
     "text": [
      "             Age\n",
      "count   3.000000\n",
      "mean   13.000000\n",
      "std     3.605551\n",
      "min    10.000000\n",
      "25%    11.000000\n",
      "50%    12.000000\n",
      "75%    14.500000\n",
      "max    17.000000\n"
     ]
    }
   ],
   "source": [
    "description = df.describe()\n",
    "print(description)"
   ]
  },
  {
   "cell_type": "code",
   "execution_count": null,
   "id": "d0ecfea8-7a75-4a6c-b78e-0b1b513af4ba",
   "metadata": {},
   "outputs": [],
   "source": [
    "reading =pd.read_csv(\"\")"
   ]
  }
 ],
 "metadata": {
  "kernelspec": {
   "display_name": "Python 3",
   "language": "python",
   "name": "python3"
  },
  "language_info": {
   "codemirror_mode": {
    "name": "ipython",
    "version": 3
   },
   "file_extension": ".py",
   "mimetype": "text/x-python",
   "name": "python",
   "nbconvert_exporter": "python",
   "pygments_lexer": "ipython3",
   "version": "3.8.8"
  }
 },
 "nbformat": 4,
 "nbformat_minor": 5
}
