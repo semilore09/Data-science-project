{
 "cells": [
  {
   "cell_type": "code",
   "execution_count": 2,
   "id": "1f414dad-64d7-4a01-be85-6966ba06fd71",
   "metadata": {},
   "outputs": [],
   "source": [
    "import pandas as pd"
   ]
  },
  {
   "cell_type": "code",
   "execution_count": 3,
   "id": "4aff4eab-9829-462a-99ee-a6730fe4897a",
   "metadata": {},
   "outputs": [
    {
     "name": "stdout",
     "output_type": "stream",
     "text": [
      "                             particulars     Quarter 1     Quarter 2  \\\n",
      "0                                         N in Billion  N in Billion   \n",
      "1                 sales unit(Forecasted)        7000.0        8000.0   \n",
      "2      planned Enging units of inventory        1000.0        1000.0   \n",
      "3              Total Production Required        8000.0        9000.0   \n",
      "4  Beginning Inventory of Finished Goods        1500.0        1000.0   \n",
      "5                   Units to be produced        6500.0        8000.0   \n",
      "\n",
      "      Quarter 3     Quarter 4  \n",
      "0  N in Billion  N in Billion  \n",
      "1        9000.0       10000.0  \n",
      "2        1000.0        1000.0  \n",
      "3       10000.0       11000.0  \n",
      "4        1000.0        1000.0  \n",
      "5        9000.0       10000.0  \n"
     ]
    }
   ],
   "source": [
    "df = pd.DataFrame({\n",
    "\n",
    "    \"particulars\":[\"\",\"sales unit(Forecasted)\",\"planned Enging units of inventory\",\n",
    "                   \"Total Production Required\",\"Beginning Inventory of Finished Goods\",\"Units to be produced\"],\n",
    "    \"Quarter 1\":[\"N in Billion\",7000.00,1000.00,8000.00,1500.00,6500.00],\n",
    "    \"Quarter 2\":[\"N in Billion\",8000.00,1000.00,9000.00,1000.00,8000.00],\n",
    "    \"Quarter 3\":[\"N in Billion\",9000.00,1000.00,10000.00,1000.00,9000.00],\n",
    "    \"Quarter 4\":[\"N in Billion\",10000.00,1000.00,11000.00,1000.00,10000.00]})\n",
    "\n",
    "print(df)"
   ]
  },
  {
   "cell_type": "code",
   "execution_count": 5,
   "id": "bceb5213-9e03-4256-9cdd-612071a521fa",
   "metadata": {},
   "outputs": [
    {
     "name": "stdout",
     "output_type": "stream",
     "text": [
      "       particulars  Quarter 1  Quarter 2  Quarter 3  Quarter 4\n",
      "count            6        6.0        6.0        6.0        6.0\n",
      "unique           6        6.0        4.0        4.0        4.0\n",
      "top                    7000.0     8000.0     9000.0    10000.0\n",
      "freq             1        1.0        2.0        2.0        2.0\n"
     ]
    },
    {
     "data": {
      "text/html": [
       "<div>\n",
       "<style scoped>\n",
       "    .dataframe tbody tr th:only-of-type {\n",
       "        vertical-align: middle;\n",
       "    }\n",
       "\n",
       "    .dataframe tbody tr th {\n",
       "        vertical-align: top;\n",
       "    }\n",
       "\n",
       "    .dataframe thead th {\n",
       "        text-align: right;\n",
       "    }\n",
       "</style>\n",
       "<table border=\"1\" class=\"dataframe\">\n",
       "  <thead>\n",
       "    <tr style=\"text-align: right;\">\n",
       "      <th></th>\n",
       "      <th>particulars</th>\n",
       "      <th>Quarter 1</th>\n",
       "      <th>Quarter 2</th>\n",
       "      <th>Quarter 3</th>\n",
       "      <th>Quarter 4</th>\n",
       "    </tr>\n",
       "  </thead>\n",
       "  <tbody>\n",
       "    <tr>\n",
       "      <th>0</th>\n",
       "      <td>True</td>\n",
       "      <td>True</td>\n",
       "      <td>True</td>\n",
       "      <td>True</td>\n",
       "      <td>True</td>\n",
       "    </tr>\n",
       "    <tr>\n",
       "      <th>1</th>\n",
       "      <td>True</td>\n",
       "      <td>True</td>\n",
       "      <td>True</td>\n",
       "      <td>True</td>\n",
       "      <td>True</td>\n",
       "    </tr>\n",
       "    <tr>\n",
       "      <th>2</th>\n",
       "      <td>True</td>\n",
       "      <td>True</td>\n",
       "      <td>True</td>\n",
       "      <td>True</td>\n",
       "      <td>True</td>\n",
       "    </tr>\n",
       "    <tr>\n",
       "      <th>3</th>\n",
       "      <td>True</td>\n",
       "      <td>True</td>\n",
       "      <td>True</td>\n",
       "      <td>True</td>\n",
       "      <td>True</td>\n",
       "    </tr>\n",
       "    <tr>\n",
       "      <th>4</th>\n",
       "      <td>True</td>\n",
       "      <td>True</td>\n",
       "      <td>True</td>\n",
       "      <td>True</td>\n",
       "      <td>True</td>\n",
       "    </tr>\n",
       "    <tr>\n",
       "      <th>5</th>\n",
       "      <td>True</td>\n",
       "      <td>True</td>\n",
       "      <td>True</td>\n",
       "      <td>True</td>\n",
       "      <td>True</td>\n",
       "    </tr>\n",
       "  </tbody>\n",
       "</table>\n",
       "</div>"
      ],
      "text/plain": [
       "   particulars  Quarter 1  Quarter 2  Quarter 3  Quarter 4\n",
       "0         True       True       True       True       True\n",
       "1         True       True       True       True       True\n",
       "2         True       True       True       True       True\n",
       "3         True       True       True       True       True\n",
       "4         True       True       True       True       True\n",
       "5         True       True       True       True       True"
      ]
     },
     "execution_count": 5,
     "metadata": {},
     "output_type": "execute_result"
    }
   ],
   "source": [
    "print(df.describe())\n",
    "df.notnull()"
   ]
  },
  {
   "cell_type": "code",
   "execution_count": 31,
   "id": "2409e7fe-a2b9-428a-a282-9878588cc91e",
   "metadata": {},
   "outputs": [
    {
     "name": "stdout",
     "output_type": "stream",
     "text": [
      "          Ministry      Salaries        Health       Pension      Mortgage  \\\n",
      "0                   N in Billion  N in Billion  N in Billion  N in Billion   \n",
      "1            Agric           450           300           250           500   \n",
      "2           Health           300           250           150           300   \n",
      "3        Education           150            80           100           200   \n",
      "4            Sport            70            70            80           150   \n",
      "5            Works           100            50           200           300   \n",
      "6          Finance           300           150           350           300   \n",
      "7            Power           250           300           300           300   \n",
      "8      Maintenance           100           350            80           200   \n",
      "9              FCT           500           450           300           100   \n",
      "10  Transportation           400           200           150            50   \n",
      "\n",
      "   Transportation Infrastruction      Training  \n",
      "0    N in Billion   N in Billion  N in Billion  \n",
      "1             400            200           300  \n",
      "2             220             80           100  \n",
      "3              65            100            50  \n",
      "4              50             75            20  \n",
      "5              90            100           100  \n",
      "6             150            120           120  \n",
      "7             100             80           100  \n",
      "8              30             50            60  \n",
      "9             300            500           200  \n",
      "10             45             70           150  \n"
     ]
    }
   ],
   "source": [
    "df = pd.DataFrame({\n",
    "    \"Ministry\":[\"\",\"Agric\",\"Health\",\"Education\",\"Sport\",\"Works\",\"Finance\",\"Power\",\"Maintenance\",\"FCT\",\"Transportation\"],\n",
    "    \"Salaries\":[\"N in Billion\",450,300,150,70,100,300,250,100,500,400],\n",
    "    \"Health\":[\"N in Billion\",300,250,80,70,50,150,300,350,450,200],\n",
    "    \"Pension\":[\"N in Billion\",250,150,100,80,200,350,300,80,300,150],\n",
    "    \"Mortgage\":[\"N in Billion\",500,300,200,150,300,300,300,200,100,50],\n",
    "    \"Transportation\":[\"N in Billion\",400,220,65,50,90,150,100,30,300,45],\n",
    "    \"Infrastruction\":[\"N in Billion\",200,80,100,75,100,120,80,50,500,70],\n",
    "    \"Training\":[\"N in Billion\",300,100,50,20,100,120,100,60,200,150]})\n",
    "print(df)"
   ]
  },
  {
   "cell_type": "code",
   "execution_count": 32,
   "id": "36e22dff-add0-446a-92af-ce8722264832",
   "metadata": {},
   "outputs": [
    {
     "name": "stdout",
     "output_type": "stream",
     "text": [
      "       Ministry  Salaries  Health  Pension  Mortgage  Transportation  \\\n",
      "count        11        11      11       11        11              11   \n",
      "unique       11         9      10        8         7              11   \n",
      "top                   100     300       80       300             400   \n",
      "freq          1         2       2        2         4               1   \n",
      "\n",
      "        Infrastruction  Training  \n",
      "count               11        11  \n",
      "unique               9         9  \n",
      "top                 80       100  \n",
      "freq                 2         3  \n"
     ]
    }
   ],
   "source": [
    "description= df.describe()\n",
    "print(description)"
   ]
  },
  {
   "cell_type": "code",
   "execution_count": null,
   "id": "237adc8e-22ee-4368-83cf-24845ac4609b",
   "metadata": {},
   "outputs": [],
   "source": []
  },
  {
   "cell_type": "code",
   "execution_count": null,
   "id": "3f214658-fb51-4f26-98ce-07d7270b7a99",
   "metadata": {},
   "outputs": [],
   "source": []
  },
  {
   "cell_type": "code",
   "execution_count": null,
   "id": "773ced64-376b-4056-9fba-40e966472f1e",
   "metadata": {},
   "outputs": [],
   "source": []
  },
  {
   "cell_type": "code",
   "execution_count": null,
   "id": "ea7d8efe-a4e4-45d8-8406-4a36a0e4fcf5",
   "metadata": {},
   "outputs": [],
   "source": []
  }
 ],
 "metadata": {
  "kernelspec": {
   "display_name": "Python 3",
   "language": "python",
   "name": "python3"
  },
  "language_info": {
   "codemirror_mode": {
    "name": "ipython",
    "version": 3
   },
   "file_extension": ".py",
   "mimetype": "text/x-python",
   "name": "python",
   "nbconvert_exporter": "python",
   "pygments_lexer": "ipython3",
   "version": "3.8.8"
  }
 },
 "nbformat": 4,
 "nbformat_minor": 5
}
