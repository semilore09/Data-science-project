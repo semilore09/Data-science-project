{
 "cells": [
  {
   "cell_type": "code",
   "execution_count": null,
   "id": "5c4c82b8-f7d0-4099-a76f-da7d69bb6266",
   "metadata": {},
   "outputs": [],
   "source": []
  },
  {
   "cell_type": "code",
   "execution_count": 1,
   "id": "d4ca7828-7725-4920-a170-9a1610710f85",
   "metadata": {},
   "outputs": [],
   "source": [
    "import pandas as pd\n",
    "import numpy as np\n",
    "import matplotlib.pyplot as plt"
   ]
  },
  {
   "cell_type": "code",
   "execution_count": 22,
   "id": "9aab77d2-b438-4bc7-ba38-7b1a4f4bda4a",
   "metadata": {},
   "outputs": [
    {
     "data": {
      "image/png": "[encoded data removed]",
      "text/plain": [
       "<Figure size 432x288 with 1 Axes>"
      ]
     },
     "metadata": {
      "needs_background": "light"
     },
     "output_type": "display_data"
    }
   ],
   "source": [
    "scores=pd.Series([10,56,24,45,30,62,12,79,32,88,95,66,43,25,98,94,30,52,87,49])\n",
    "bins=[0,25,50,75,100]\n",
    "plt.figure()\n",
    "plt.hist(scores,bins,color=\"green\")\n",
    "plt.title(\"students scores\")\n",
    "plt.xlabel(\"marks\")\n",
    "plt.ylabel(\"No of students\")\n",
    "plt.show()"
   ]
  },
  {
   "cell_type": "code",
   "execution_count": 15,
   "id": "11c784f9-8b7c-4128-bf39-53bf31251c5e",
   "metadata": {},
   "outputs": [
    {
     "data": {
      "text/plain": [
       "count    20.000000\n",
       "mean     53.850000\n",
       "std      28.660031\n",
       "min      10.000000\n",
       "25%      30.000000\n",
       "50%      50.500000\n",
       "75%      81.000000\n",
       "max      98.000000\n",
       "dtype: float64"
      ]
     },
     "execution_count": 15,
     "metadata": {},
     "output_type": "execute_result"
    }
   ],
   "source": [
    "scores.describe()"
   ]
  },
  {
   "cell_type": "code",
   "execution_count": null,
   "id": "897a77d9-0417-432a-b823-62b9a439e176",
   "metadata": {},
   "outputs": [],
   "source": []
  }
 ],
 "metadata": {
  "kernelspec": {
   "display_name": "Python 3",
   "language": "python",
   "name": "python3"
  },
  "language_info": {
   "codemirror_mode": {
    "name": "ipython",
    "version": 3
   },
   "file_extension": ".py",
   "mimetype": "text/x-python",
   "name": "python",
   "nbconvert_exporter": "python",
   "pygments_lexer": "ipython3",
   "version": "3.8.8"
  }
 },
 "nbformat": 4,
 "nbformat_minor": 5
}
