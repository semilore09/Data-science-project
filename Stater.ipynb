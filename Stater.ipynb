{
 "cells": [
  {
   "cell_type": "code",
   "execution_count": 1,
   "id": "cfa11830-4807-4ad8-b184-1ade16ce6b21",
   "metadata": {},
   "outputs": [],
   "source": [
    "import numpy as np"
   ]
  },
  {
   "cell_type": "code",
   "execution_count": 2,
   "id": "9ec16260-7f74-483e-84ac-9b509692b664",
   "metadata": {},
   "outputs": [
    {
     "name": "stdout",
     "output_type": "stream",
     "text": [
      "[[ 0  1  2  3  4]\n",
      " [ 5  6  7  8  9]\n",
      " [10 11 12 13 14]\n",
      " [15 16 17 18 19]]\n"
     ]
    }
   ],
   "source": [
    "#CREATING 20 ELEMENTS ARRAY\n",
    "Elements = np.arange(20).reshape(4,5)\n",
    "print(Elements)"
   ]
  },
  {
   "cell_type": "code",
   "execution_count": 8,
   "id": "88b0524b-83d5-4cbc-952e-2a155e03f3f1",
   "metadata": {},
   "outputs": [
    {
     "data": {
      "text/plain": [
       "dtype('int32')"
      ]
     },
     "execution_count": 8,
     "metadata": {},
     "output_type": "execute_result"
    }
   ],
   "source": [
    "Elements.dtype"
   ]
  },
  {
   "cell_type": "code",
   "execution_count": 9,
   "id": "c5613633-28cc-4555-bed3-76125a84c1bb",
   "metadata": {},
   "outputs": [
    {
     "data": {
      "text/plain": [
       "20"
      ]
     },
     "execution_count": 9,
     "metadata": {},
     "output_type": "execute_result"
    }
   ],
   "source": [
    "Elements.size"
   ]
  },
  {
   "cell_type": "code",
   "execution_count": 6,
   "id": "7070c58d-7ef3-466d-88ec-0946fcd1bcc5",
   "metadata": {},
   "outputs": [
    {
     "data": {
      "text/plain": [
       "(4, 5)"
      ]
     },
     "execution_count": 6,
     "metadata": {},
     "output_type": "execute_result"
    }
   ],
   "source": [
    "Elements.shape"
   ]
  },
  {
   "cell_type": "code",
   "execution_count": 7,
   "id": "641b87a8-449a-44ec-ab14-debdbc4ab7e0",
   "metadata": {},
   "outputs": [
    {
     "data": {
      "text/plain": [
       "numpy.ndarray"
      ]
     },
     "execution_count": 7,
     "metadata": {},
     "output_type": "execute_result"
    }
   ],
   "source": [
    "type(Elements)"
   ]
  },
  {
   "cell_type": "code",
   "execution_count": 15,
   "id": "3f95463e-b1a3-4d51-91c4-845e7ea46290",
   "metadata": {},
   "outputs": [],
   "source": [
    "#ARRAY CREATION"
   ]
  },
  {
   "cell_type": "code",
   "execution_count": 17,
   "id": "d7813fd6-f945-439d-a9e8-a73e7f03d3ee",
   "metadata": {},
   "outputs": [
    {
     "name": "stdout",
     "output_type": "stream",
     "text": [
      "[ 4  5  9 34]\n"
     ]
    }
   ],
   "source": [
    "Array2 = np.array([4,5,9,34])\n",
    "print(Array2)"
   ]
  },
  {
   "cell_type": "code",
   "execution_count": 5,
   "id": "5387c6f1-eda1-4d79-93a6-f8e765a884a8",
   "metadata": {},
   "outputs": [
    {
     "name": "stdout",
     "output_type": "stream",
     "text": [
      "[[ 1  4  6 10]\n",
      " [ 3 16 12  2]\n",
      " [ 9  7  4 12]]\n"
     ]
    }
   ],
   "source": [
    "Array3 = np.array([(1,4,6,10),(3,16,12,2),(9,7,4,12)])\n",
    "print(Array3)"
   ]
  },
  {
   "cell_type": "code",
   "execution_count": 11,
   "id": "8806d398-112f-4e2f-a7b4-a00aa8a66a9c",
   "metadata": {},
   "outputs": [
    {
     "name": "stdout",
     "output_type": "stream",
     "text": [
      "[[0. 0. 0. 0.]\n",
      " [0. 0. 0. 0.]\n",
      " [0. 0. 0. 0.]\n",
      " [0. 0. 0. 0.]\n",
      " [0. 0. 0. 0.]]\n"
     ]
    }
   ],
   "source": [
    "Array4 = np.zeros((5,4))\n",
    "print(Array4)"
   ]
  },
  {
   "cell_type": "code",
   "execution_count": 18,
   "id": "29b27fa8-51bb-4347-ae61-2c85d1154e6b",
   "metadata": {},
   "outputs": [
    {
     "name": "stdout",
     "output_type": "stream",
     "text": [
      "[[ 3  6  9]\n",
      " [12 15 18]\n",
      " [21 24 27]]\n"
     ]
    }
   ],
   "source": [
    "Array1=np.arange(3,30,3).reshape(3,3)\n",
    "print(Array1)"
   ]
  },
  {
   "cell_type": "code",
   "execution_count": 26,
   "id": "0895952f-55c0-4eec-be33-8ac566de14b3",
   "metadata": {},
   "outputs": [
    {
     "name": "stdout",
     "output_type": "stream",
     "text": [
      "[[ 0  2  4  6  8 10 12 14 16 18]\n",
      " [20 22 24 26 28 30 32 34 36 38]\n",
      " [40 42 44 46 48 50 52 54 56 58]\n",
      " [60 62 64 66 68 70 72 74 76 78]\n",
      " [80 82 84 86 88 90 92 94 96 98]]\n"
     ]
    }
   ],
   "source": [
    "Array=np.arange(0,100,2).reshape(5,10)\n",
    "print(Array)"
   ]
  },
  {
   "cell_type": "code",
   "execution_count": 27,
   "id": "6e9af095-f0eb-4ab1-8025-b2655bb1df19",
   "metadata": {},
   "outputs": [
    {
     "name": "stdout",
     "output_type": "stream",
     "text": [
      "[ 5 18 13 23]\n"
     ]
    }
   ],
   "source": [
    "#BASIC OPERATION - Addition of Array\n",
    "Ary1=np.array([2,6,4,8])\n",
    "Ary2=np.array([3,12,9,15])\n",
    "result = Ary1+Ary2\n",
    "print(result)"
   ]
  },
  {
   "cell_type": "code",
   "execution_count": 28,
   "id": "48e96c4e-9457-4818-94eb-069f7282c6da",
   "metadata": {},
   "outputs": [
    {
     "name": "stdout",
     "output_type": "stream",
     "text": [
      "[  6  72  36 120]\n"
     ]
    }
   ],
   "source": [
    "result2=Ary1*Ary2\n",
    "print(result2)"
   ]
  },
  {
   "cell_type": "code",
   "execution_count": 37,
   "id": "d6533ee7-894f-4684-adc8-47861198ee27",
   "metadata": {},
   "outputs": [
    {
     "name": "stdout",
     "output_type": "stream",
     "text": [
      "[-1 -6 -5 -7]\n"
     ]
    }
   ],
   "source": [
    "result3=Ary1-Ary2\n",
    "print(result3)"
   ]
  },
  {
   "cell_type": "code",
   "execution_count": 42,
   "id": "fd4113c6-75f4-4b94-b183-5941ba731293",
   "metadata": {},
   "outputs": [
    {
     "name": "stdout",
     "output_type": "stream",
     "text": [
      "[[ 3  8  9 12]\n",
      " [ 6 22 14  4]\n",
      " [14 14  8 14]]\n"
     ]
    }
   ],
   "source": [
    "Arra1 = np.array([(1,4,6,10),(3,16,12,2),(9,7,4,12)])\n",
    "Arra2 = np.array([(2,4,3,2),(3,6,2,2),(5,7,4,2)])\n",
    "Addition = Arra1 + Arra2\n",
    "print(Addition)"
   ]
  },
  {
   "cell_type": "code",
   "execution_count": 34,
   "id": "1172c561-f74b-4c0b-b9e8-b91f6a4dad5b",
   "metadata": {},
   "outputs": [
    {
     "name": "stdout",
     "output_type": "stream",
     "text": [
      "[[ 2 16 18 20]\n",
      " [ 9 96 24  4]\n",
      " [45 49 16 24]]\n"
     ]
    }
   ],
   "source": [
    "multiply = Arra1 * Arra2\n",
    "print(multiply)"
   ]
  },
  {
   "cell_type": "code",
   "execution_count": 41,
   "id": "fa77b8f1-d2f5-4b03-b0ec-11c759aeb5b9",
   "metadata": {},
   "outputs": [
    {
     "ename": "ValueError",
     "evalue": "matmul: Input operand 1 has a mismatch in its core dimension 0, with gufunc signature (n?,k),(k,m?)->(n?,m?) (size 3 is different from 4)",
     "output_type": "error",
     "traceback": [
      "\u001b[1;31m---------------------------------------------------------------------------\u001b[0m",
      "\u001b[1;31mValueError\u001b[0m                                Traceback (most recent call last)",
      "\u001b[1;32m<ipython-input-41-8bf638933f5b>\u001b[0m in \u001b[0;36m<module>\u001b[1;34m\u001b[0m\n\u001b[0;32m      1\u001b[0m \u001b[0mArra1\u001b[0m \u001b[1;33m=\u001b[0m \u001b[0mnp\u001b[0m\u001b[1;33m.\u001b[0m\u001b[0marray\u001b[0m\u001b[1;33m(\u001b[0m\u001b[1;33m[\u001b[0m\u001b[1;33m(\u001b[0m\u001b[1;36m1\u001b[0m\u001b[1;33m,\u001b[0m\u001b[1;36m4\u001b[0m\u001b[1;33m,\u001b[0m\u001b[1;36m6\u001b[0m\u001b[1;33m,\u001b[0m\u001b[1;36m10\u001b[0m\u001b[1;33m)\u001b[0m\u001b[1;33m,\u001b[0m\u001b[1;33m(\u001b[0m\u001b[1;36m3\u001b[0m\u001b[1;33m,\u001b[0m\u001b[1;36m16\u001b[0m\u001b[1;33m,\u001b[0m\u001b[1;36m12\u001b[0m\u001b[1;33m,\u001b[0m\u001b[1;36m2\u001b[0m\u001b[1;33m)\u001b[0m\u001b[1;33m,\u001b[0m\u001b[1;33m(\u001b[0m\u001b[1;36m9\u001b[0m\u001b[1;33m,\u001b[0m\u001b[1;36m7\u001b[0m\u001b[1;33m,\u001b[0m\u001b[1;36m4\u001b[0m\u001b[1;33m,\u001b[0m\u001b[1;36m12\u001b[0m\u001b[1;33m)\u001b[0m\u001b[1;33m]\u001b[0m\u001b[1;33m)\u001b[0m\u001b[1;33m\u001b[0m\u001b[1;33m\u001b[0m\u001b[0m\n\u001b[0;32m      2\u001b[0m \u001b[0mArra2\u001b[0m \u001b[1;33m=\u001b[0m \u001b[0mnp\u001b[0m\u001b[1;33m.\u001b[0m\u001b[0marray\u001b[0m\u001b[1;33m(\u001b[0m\u001b[1;33m[\u001b[0m\u001b[1;33m(\u001b[0m\u001b[1;36m2\u001b[0m\u001b[1;33m,\u001b[0m\u001b[1;36m4\u001b[0m\u001b[1;33m,\u001b[0m\u001b[1;36m3\u001b[0m\u001b[1;33m,\u001b[0m\u001b[1;36m2\u001b[0m\u001b[1;33m)\u001b[0m\u001b[1;33m,\u001b[0m\u001b[1;33m(\u001b[0m\u001b[1;36m3\u001b[0m\u001b[1;33m,\u001b[0m\u001b[1;36m6\u001b[0m\u001b[1;33m,\u001b[0m\u001b[1;36m2\u001b[0m\u001b[1;33m,\u001b[0m\u001b[1;36m2\u001b[0m\u001b[1;33m)\u001b[0m\u001b[1;33m,\u001b[0m\u001b[1;33m(\u001b[0m\u001b[1;36m5\u001b[0m\u001b[1;33m,\u001b[0m\u001b[1;36m7\u001b[0m\u001b[1;33m,\u001b[0m\u001b[1;36m4\u001b[0m\u001b[1;33m,\u001b[0m\u001b[1;36m2\u001b[0m\u001b[1;33m)\u001b[0m\u001b[1;33m]\u001b[0m\u001b[1;33m)\u001b[0m\u001b[1;33m\u001b[0m\u001b[1;33m\u001b[0m\u001b[0m\n\u001b[1;32m----> 3\u001b[1;33m \u001b[0mcrossmultiply\u001b[0m \u001b[1;33m=\u001b[0m \u001b[0mArra1\u001b[0m\u001b[1;33m@\u001b[0m\u001b[0mArra2\u001b[0m\u001b[1;33m\u001b[0m\u001b[1;33m\u001b[0m\u001b[0m\n\u001b[0m\u001b[0;32m      4\u001b[0m \u001b[0mprint\u001b[0m\u001b[1;33m(\u001b[0m\u001b[0mcrossmultiply\u001b[0m\u001b[1;33m)\u001b[0m\u001b[1;33m\u001b[0m\u001b[1;33m\u001b[0m\u001b[0m\n",
      "\u001b[1;31mValueError\u001b[0m: matmul: Input operand 1 has a mismatch in its core dimension 0, with gufunc signature (n?,k),(k,m?)->(n?,m?) (size 3 is different from 4)"
     ]
    }
   ],
   "source": [
    "Arra1 = np.array([(1,4,6,10),(3,16,12,2),(9,7,4,12)])\n",
    "Arra2 = np.array([(2,4,3,2),(3,6,2,2),(5,7,4,2)])\n",
    "crossmultiply = Arra1@Arra2\n",
    "print(crossmultiply)"
   ]
  },
  {
   "cell_type": "code",
   "execution_count": null,
   "id": "3f3b6c62-1924-4ecb-858b-7d3a29f76e81",
   "metadata": {},
   "outputs": [],
   "source": []
  }
 ],
 "metadata": {
  "kernelspec": {
   "display_name": "Python 3",
   "language": "python",
   "name": "python3"
  },
  "language_info": {
   "codemirror_mode": {
    "name": "ipython",
    "version": 3
   },
   "file_extension": ".py",
   "mimetype": "text/x-python",
   "name": "python",
   "nbconvert_exporter": "python",
   "pygments_lexer": "ipython3",
   "version": "3.8.8"
  }
 },
 "nbformat": 4,
 "nbformat_minor": 5
}
