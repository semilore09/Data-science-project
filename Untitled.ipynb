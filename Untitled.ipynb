{
 "cells": [
  {
   "cell_type": "code",
   "execution_count": 2,
   "id": "c2746e2f-6995-4be0-96d2-07b0a32e3a44",
   "metadata": {},
   "outputs": [],
   "source": [
    "import numpy as np\n",
    "import pandas as pd\n",
    "import matplotlib.pyplot as plt\n",
    "import seaborn as sns"
   ]
  },
  {
   "cell_type": "code",
   "execution_count": 3,
   "id": "91ad1d58-78bd-4613-a7e5-a08790d4058e",
   "metadata": {},
   "outputs": [
    {
     "name": "stdout",
     "output_type": "stream",
     "text": [
      "      Indicator Category                                          Indicator  \\\n",
      "0               HIV/AIDS           AIDS Diagnoses Rate (Per 100,000 people)   \n",
      "1               HIV/AIDS           AIDS Diagnoses Rate (Per 100,000 people)   \n",
      "2               HIV/AIDS           AIDS Diagnoses Rate (Per 100,000 people)   \n",
      "3                 Cancer  All Types of Cancer Mortality Rate (Age-Adjust...   \n",
      "4                 Cancer  All Types of Cancer Mortality Rate (Age-Adjust...   \n",
      "...                  ...                                                ...   \n",
      "13507        Food Safety  Rate of Laboratory Confirmed Infections Caused...   \n",
      "13508        Food Safety  Rate of Laboratory Confirmed Infections Caused...   \n",
      "13509        Food Safety  Rate of Laboratory Confirmed Infections Caused...   \n",
      "13510        Food Safety  Rate of Laboratory Confirmed Infections Caused...   \n",
      "13511        Food Safety  Rate of Laboratory Confirmed Infections Caused...   \n",
      "\n",
      "       Year  Gender Race/ Ethnicity  Value                        Place  \\\n",
      "0      2013    Both             All   30.4  Atlanta (Fulton County), GA   \n",
      "1      2012    Both             All   39.6  Atlanta (Fulton County), GA   \n",
      "2      2011    Both             All   41.7  Atlanta (Fulton County), GA   \n",
      "3      2013    Male             All  195.8  Atlanta (Fulton County), GA   \n",
      "4      2013  Female             All  135.5  Atlanta (Fulton County), GA   \n",
      "...     ...     ...             ...    ...                          ...   \n",
      "13507  2013  Female             All   14.3              Kansas City, MO   \n",
      "13508  2013    Male             All    6.2              Kansas City, MO   \n",
      "13509  2014    Both             All   12.7              Kansas City, MO   \n",
      "13510  2014  Female             All   13.3              Kansas City, MO   \n",
      "13511  2014    Male             All   12.0              Kansas City, MO   \n",
      "\n",
      "                              BCHC Requested Methodology  \\\n",
      "0      AIDS cases diagnosed in 2012, 2013, 2014 (as a...   \n",
      "1      AIDS cases diagnosed in 2012, 2013, 2014 (as a...   \n",
      "2      AIDS cases diagnosed in 2012, 2013, 2014 (as a...   \n",
      "3      2012, 2013, 2014; per 100,000 population using...   \n",
      "4      2012, 2013, 2014; per 100,000 population using...   \n",
      "...                                                  ...   \n",
      "13507  2012, 2013, 2014: per 100,000 population using...   \n",
      "13508  2012, 2013, 2014: per 100,000 population using...   \n",
      "13509  2012, 2013, 2014: per 100,000 population using...   \n",
      "13510  2012, 2013, 2014: per 100,000 population using...   \n",
      "13511  2012, 2013, 2014: per 100,000 population using...   \n",
      "\n",
      "                                                  Source Methods Notes  \n",
      "0      Diagnoses numbers were obtained from the Georg...     NaN   NaN  \n",
      "1      Diagnoses numbers were obtained from the Georg...     NaN   NaN  \n",
      "2      Diagnoses numbers were obtained from the Georg...     NaN   NaN  \n",
      "3      National Center for Health Statistics (NCHS), CDC     NaN   NaN  \n",
      "4      National Center for Health Statistics (NCHS), CDC     NaN   NaN  \n",
      "...                                                  ...     ...   ...  \n",
      "13507  MDHSS WebSurv – Communicable Disease Registry ...     NaN   NaN  \n",
      "13508  MDHSS WebSurv – Communicable Disease Registry ...     NaN   NaN  \n",
      "13509  MDHSS WebSurv – Communicable Disease Registry ...     NaN   NaN  \n",
      "13510  MDHSS WebSurv – Communicable Disease Registry ...     NaN   NaN  \n",
      "13511  MDHSS WebSurv – Communicable Disease Registry ...     NaN   NaN  \n",
      "\n",
      "[13512 rows x 11 columns]\n"
     ]
    }
   ],
   "source": [
    "bc=pd.read_csv(\"Big_Cities_Health_Data_Inventory.csv\")\n",
    "print(bc)"
   ]
  },
  {
   "cell_type": "code",
   "execution_count": 6,
   "id": "ac998706-71a4-46b0-9f45-fcf3d5a3bc94",
   "metadata": {},
   "outputs": [
    {
     "name": "stdout",
     "output_type": "stream",
     "text": [
      "      Indicator Category                                          Indicator  \\\n",
      "0               HIV/AIDS           AIDS Diagnoses Rate (Per 100,000 people)   \n",
      "1               HIV/AIDS           AIDS Diagnoses Rate (Per 100,000 people)   \n",
      "2               HIV/AIDS           AIDS Diagnoses Rate (Per 100,000 people)   \n",
      "3                 Cancer  All Types of Cancer Mortality Rate (Age-Adjust...   \n",
      "4                 Cancer  All Types of Cancer Mortality Rate (Age-Adjust...   \n",
      "...                  ...                                                ...   \n",
      "13507        Food Safety  Rate of Laboratory Confirmed Infections Caused...   \n",
      "13508        Food Safety  Rate of Laboratory Confirmed Infections Caused...   \n",
      "13509        Food Safety  Rate of Laboratory Confirmed Infections Caused...   \n",
      "13510        Food Safety  Rate of Laboratory Confirmed Infections Caused...   \n",
      "13511        Food Safety  Rate of Laboratory Confirmed Infections Caused...   \n",
      "\n",
      "       Year  Gender Race/ Ethnicity  Value                        Place  \\\n",
      "0      2013    Both             All   30.4  Atlanta (Fulton County), GA   \n",
      "1      2012    Both             All   39.6  Atlanta (Fulton County), GA   \n",
      "2      2011    Both             All   41.7  Atlanta (Fulton County), GA   \n",
      "3      2013    Male             All  195.8  Atlanta (Fulton County), GA   \n",
      "4      2013  Female             All  135.5  Atlanta (Fulton County), GA   \n",
      "...     ...     ...             ...    ...                          ...   \n",
      "13507  2013  Female             All   14.3              Kansas City, MO   \n",
      "13508  2013    Male             All    6.2              Kansas City, MO   \n",
      "13509  2014    Both             All   12.7              Kansas City, MO   \n",
      "13510  2014  Female             All   13.3              Kansas City, MO   \n",
      "13511  2014    Male             All   12.0              Kansas City, MO   \n",
      "\n",
      "                              BCHC Requested Methodology  \\\n",
      "0      AIDS cases diagnosed in 2012, 2013, 2014 (as a...   \n",
      "1      AIDS cases diagnosed in 2012, 2013, 2014 (as a...   \n",
      "2      AIDS cases diagnosed in 2012, 2013, 2014 (as a...   \n",
      "3      2012, 2013, 2014; per 100,000 population using...   \n",
      "4      2012, 2013, 2014; per 100,000 population using...   \n",
      "...                                                  ...   \n",
      "13507  2012, 2013, 2014: per 100,000 population using...   \n",
      "13508  2012, 2013, 2014: per 100,000 population using...   \n",
      "13509  2012, 2013, 2014: per 100,000 population using...   \n",
      "13510  2012, 2013, 2014: per 100,000 population using...   \n",
      "13511  2012, 2013, 2014: per 100,000 population using...   \n",
      "\n",
      "                                                  Source Methods Notes  \n",
      "0      Diagnoses numbers were obtained from the Georg...     NaN   NaN  \n",
      "1      Diagnoses numbers were obtained from the Georg...     NaN   NaN  \n",
      "2      Diagnoses numbers were obtained from the Georg...     NaN   NaN  \n",
      "3      National Center for Health Statistics (NCHS), CDC     NaN   NaN  \n",
      "4      National Center for Health Statistics (NCHS), CDC     NaN   NaN  \n",
      "...                                                  ...     ...   ...  \n",
      "13507  MDHSS WebSurv – Communicable Disease Registry ...     NaN   NaN  \n",
      "13508  MDHSS WebSurv – Communicable Disease Registry ...     NaN   NaN  \n",
      "13509  MDHSS WebSurv – Communicable Disease Registry ...     NaN   NaN  \n",
      "13510  MDHSS WebSurv – Communicable Disease Registry ...     NaN   NaN  \n",
      "13511  MDHSS WebSurv – Communicable Disease Registry ...     NaN   NaN  \n",
      "\n",
      "[13512 rows x 11 columns]\n"
     ]
    }
   ],
   "source": [
    "bc.drop([\"Methods\",\"Notes\"],axis=1)\n",
    "print(bc)"
   ]
  },
  {
   "cell_type": "code",
   "execution_count": 9,
   "id": "c8945326-88cd-4669-8faa-f9f115bf8cc0",
   "metadata": {},
   "outputs": [],
   "source": [
    "bc.to_csv(\"C:/Users/User/Desktop/bch1.csv\")"
   ]
  },
  {
   "cell_type": "code",
   "execution_count": null,
   "id": "7fcdb62c-04cf-466c-9172-75290ced9e53",
   "metadata": {},
   "outputs": [],
   "source": []
  },
  {
   "cell_type": "code",
   "execution_count": null,
   "id": "5dd4ae1a-c794-4221-adee-482afb08ee8e",
   "metadata": {},
   "outputs": [],
   "source": []
  }
 ],
 "metadata": {
  "kernelspec": {
   "display_name": "Python 3",
   "language": "python",
   "name": "python3"
  },
  "language_info": {
   "codemirror_mode": {
    "name": "ipython",
    "version": 3
   },
   "file_extension": ".py",
   "mimetype": "text/x-python",
   "name": "python",
   "nbconvert_exporter": "python",
   "pygments_lexer": "ipython3",
   "version": "3.8.8"
  }
 },
 "nbformat": 4,
 "nbformat_minor": 5
}
