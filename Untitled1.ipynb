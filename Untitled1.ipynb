{
 "cells": [
  {
   "cell_type": "code",
   "execution_count": null,
   "id": "e5e6de6a-5c2e-4805-b950-33e779cb725f",
   "metadata": {},
   "outputs": [],
   "source": []
  },
  {
   "cell_type": "code",
   "execution_count": 1,
   "id": "df8e5e09-1941-462d-bdd5-d656ae8f9c45",
   "metadata": {},
   "outputs": [],
   "source": [
    "import numpy as np\n",
    "import pandas as pd\n",
    "import matplotlib.pyplot as plt"
   ]
  },
  {
   "cell_type": "code",
   "execution_count": 2,
   "id": "6b54aedf-f07c-4d5e-8630-755def010dc3",
   "metadata": {},
   "outputs": [
    {
     "name": "stdout",
     "output_type": "stream",
     "text": [
      "     Year  Type of Offence        M        F    F%\n",
      "0    2013              Debt     618       28  4.33\n",
      "1    2013             Arson     685       14     2\n",
      "2    2013            Affray    1000       12  1.19\n",
      "3    2013           Assault    8301      681  7.58\n",
      "4    2013            Murder    6852      320  4.46\n",
      "..    ...               ...     ...      ...   ...\n",
      "119  2016    Cultism/Ritual     401        2   0.5\n",
      "120  2016   Breach of peace     948       26  2.67\n",
      "121  2016     Other Offence   25942     1442  5.27\n",
      "122  2016             Total   36481     6367  4.46\n",
      "123  2016  Total calculated  136384  6365.83   NaN\n",
      "\n",
      "[124 rows x 5 columns]\n"
     ]
    }
   ],
   "source": [
    "pr=pd.read_csv(\"wanadata-worksheet-sexual-offences-pg-49-pdf.csv\")\n",
    "print(pr)"
   ]
  },
  {
   "cell_type": "code",
   "execution_count": null,
   "id": "b906664f-296d-4611-81a1-68ca99775745",
   "metadata": {},
   "outputs": [],
   "source": []
  },
  {
   "cell_type": "code",
   "execution_count": null,
   "id": "b860136c-6493-46e8-ac0c-3298f864de14",
   "metadata": {},
   "outputs": [],
   "source": []
  }
 ],
 "metadata": {
  "kernelspec": {
   "display_name": "Python 3",
   "language": "python",
   "name": "python3"
  },
  "language_info": {
   "codemirror_mode": {
    "name": "ipython",
    "version": 3
   },
   "file_extension": ".py",
   "mimetype": "text/x-python",
   "name": "python",
   "nbconvert_exporter": "python",
   "pygments_lexer": "ipython3",
   "version": "3.8.8"
  }
 },
 "nbformat": 4,
 "nbformat_minor": 5
}
